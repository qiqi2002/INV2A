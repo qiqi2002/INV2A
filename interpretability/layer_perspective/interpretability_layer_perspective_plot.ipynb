{
 "cells": [
  {
   "cell_type": "markdown",
   "metadata": {},
   "source": [
    "# interpretability from layer perspective\n",
    "\n",
    "Run `interpretability_layer_perspective.py` to get the file `interpretability_layer_perspective_scores.json`.\n",
    "\n",
    "You could set your model and dataset in `interpretability_layer_perspective.py`."
   ]
  },
  {
   "cell_type": "code",
   "execution_count": 1,
   "metadata": {},
   "outputs": [],
   "source": [
    "import json\n",
    "with open('interpretability_layer_perspective_scores.json', 'r') as f:\n",
    "    data = json.load(f)"
   ]
  },
  {
   "cell_type": "code",
   "execution_count": null,
   "metadata": {},
   "outputs": [],
   "source": [
    "import numpy as np\n",
    "\n",
    "n = 33\n",
    "\n",
    "f = [{'min': [], 'mid': [], 'max': [],} for i in range(n)]\n",
    "for i, t in enumerate(data.items()):\n",
    "    k = t[0]\n",
    "    v = t[1]\n",
    "    v_avg = np.average(v)\n",
    "    layer = i//18\n",
    "    if i%18 in [0, 1, 2]:\n",
    "        f[layer]['min'].append(v_avg)\n",
    "    elif i%18 in [9, 10, 11]:\n",
    "        f[layer]['max'].append(v_avg)\n",
    "    elif i%18 in [13, 14, 15]:\n",
    "        f[layer]['mid'].append(v_avg)\n",
    "\n",
    "print(f[0])\n",
    "mat = []\n",
    "for i in range(n):\n",
    "    layer_i = f[i]['min'] + f[i]['mid'] + f[i]['max']\n",
    "    mat.append(layer_i)\n",
    "\n",
    "print(len(mat))\n",
    "print(len(mat[0]))"
   ]
  },
  {
   "cell_type": "code",
   "execution_count": null,
   "metadata": {},
   "outputs": [],
   "source": [
    "import matplotlib.pyplot as plt\n",
    "import numpy as np\n",
    "import copy\n",
    "import seaborn as sns\n",
    "\n",
    "sns.set_theme(style=\"white\", rc={\"axes.facecolor\": \"#EAEAF1\"})\n",
    "plt.rcParams['font.size'] = 20\n",
    "\n",
    "def sigmod(x):\n",
    "    return 1 / (1 + np.exp(-x))\n",
    "\n",
    "data = copy.deepcopy(mat)\n",
    "data = data[1:]\n",
    "\n",
    "mn, mx = np.min(data), np.max(data)\n",
    "for i in range(len(data)):\n",
    "    for j in range(len(data[i])):\n",
    "        data[i][j] = (data[i][j] - mn) / (mx - mn)\n",
    "        data[i][j] = data[i][j] ** 4\n",
    "\n",
    "data = np.array(data)\n",
    "\n",
    "fig, ax = plt.subplots(figsize=(10, 4))\n",
    "\n",
    "cax = ax.pcolormesh(data.T, cmap='Reds', edgecolors='white', linewidth=0.5)\n",
    "\n",
    "plt.yticks([])\n",
    "\n",
    "ax.set_xticks(range(0, data.shape[0], 3))\n",
    "plt.xticks(fontsize=20)\n",
    "\n",
    "cbar = fig.colorbar(cax, shrink=1, pad=0.02)\n",
    "cbar.outline.set_linewidth(2)\n",
    "cbar.ax.tick_params(labelsize=20)\n",
    "\n",
    "for spine in ax.spines.values():\n",
    "    spine.set_linewidth(2)\n",
    "\n",
    "plt.subplots_adjust(left=0.02, right=1.08, top=0.96, bottom=0.1)\n",
    "\n",
    "fig.savefig('exp_interpret_weight.pdf', format='pdf')\n",
    "\n",
    "plt.show()"
   ]
  }
 ],
 "metadata": {
  "kernelspec": {
   "display_name": "env1",
   "language": "python",
   "name": "python3"
  },
  "language_info": {
   "codemirror_mode": {
    "name": "ipython",
    "version": 3
   },
   "file_extension": ".py",
   "mimetype": "text/x-python",
   "name": "python",
   "nbconvert_exporter": "python",
   "pygments_lexer": "ipython3",
   "version": "3.11.9"
  }
 },
 "nbformat": 4,
 "nbformat_minor": 2
}
